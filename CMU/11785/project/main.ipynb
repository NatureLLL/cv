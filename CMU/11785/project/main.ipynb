{
 "cells": [
  {
   "cell_type": "code",
   "execution_count": null,
   "metadata": {},
   "outputs": [],
   "source": [
    "# import neccessary packages\n",
    "import torch\n",
    "import torch.nn as nn\n",
    "import torch.optim as optim\n",
    "from torch.utils.data import random_split, Dataset, DataLoader\n",
    "from model import DenseNet121\n",
    "\n",
    "DEVICE = \"cuda\" if torch.cuda.is_available() else \"cpu\"\n",
    "DEVICE"
   ]
  },
  {
   "cell_type": "code",
   "execution_count": null,
   "metadata": {},
   "outputs": [],
   "source": [
    "class ModelTrainer:\n",
    "    def __init__(self, model, max_epochs=1, run_id='exp'):\n",
    "        self.model = model.to(DEVICE)\n",
    "        self.max_epochs = max_epochs\n",
    "        self.run_id = run_id\n",
    "        self.train_losses = []\n",
    "        self.val_losses = []\n",
    "        \n",
    "        # Define your optimizer and criterion here\n",
    "        self.optimizer = torch.optim.Adam(model.parameters(), lr=0.001, weight_decay=0.001)\n",
    "        self.scheduler = torch.optim.lr_scheduler.ReduceLROnPlateau(self.optimizer, patience=1, verbose=True)\n",
    "        self.criterion = nn.CrossEntropyLoss()\n",
    "        \n",
    "    def train_val_epoch(self, train_loader, val_loader):\n",
    "        self.model.train()\n",
    "        self.epochs += 1\n",
    "        epoch_loss = 0\n",
    "        correct = 0\n",
    "        \n",
    "        for batch_num, (X, Y) in enumerate(train_loader):\n",
    "            self.optimizer.zero_grad()\n",
    "            \n",
    "            X = X.to(DEVICE)\n",
    "            \n",
    "            out = self.model(X)        \n",
    "            pred = out.data.max(1, keepdim=True)[1]\n",
    "            predicted = pred.eq(Y.data.view_as(pred))\n",
    "            correct += predicted.sum()\n",
    "            loss = self.criterion(out, Y)\n",
    "            \n",
    "            loss.backward()\n",
    "            self.optimizer.step()\n",
    "            epoch_loss += loss.item()\n",
    "      \n",
    "        epoch_loss = epoch_loss / (batch_num + 1)\n",
    "        train_acc = correct.cpu().numpy() / len(train_loader.dataset)\n",
    "        \n",
    "        val_loss, val_acc = self.validate(val_loader)\n",
    "        self.scheduler.step(val_loss)\n",
    "        \n",
    "        print('[TRAIN]  Epoch [%d/%d]   Loss: %.4f   Accuracy: %.4f'\n",
    "                      % (self.epochs, self.max_epochs, epoch_loss, train_acc))\n",
    "        self.train_losses.append(epoch_loss)\n",
    "        \n",
    "        print('[VAL]  Epoch [%d/%d]   Loss: %.4f   Accuracy: %.4f'\n",
    "                      % (self.epochs, self.max_epochs, val_loss, val_acc))\n",
    "        self.val_losses.append(val_loss)\n",
    "        \n",
    "        \n",
    "    def validate(self, val_loader):\n",
    "        self.model.eval()\n",
    "        val_loss = 0\n",
    "        correct = 0\n",
    "        \n",
    "        for batch_num, (X, Y) in enumerate(val_loader):\n",
    "            X = X.to(DEVICE)\n",
    "            \n",
    "            out = self.model(X)        \n",
    "            pred = out.data.max(1, keepdim=True)[1]\n",
    "            predicted = pred.eq(Y.data.view_as(pred))\n",
    "            correct += predicted.sum()\n",
    "            loss = self.criterion(out, Y)\n",
    "            \n",
    "            val_loss += loss.item()\n",
    "        \n",
    "        val_loss = val_loss / (batch_num + 1)\n",
    "        acc = correct.cpu().numpy() / len(val_loader.dataset)\n",
    "        \n",
    "        return val_loss, acc\n",
    "    \n",
    "    def save(self):\n",
    "        model_path = os.path.join('experiments', self.run_id, 'model-{}.pkl'.format(self.epochs))\n",
    "        torch.save({'state_dict': self.model.state_dict()}, model_path)"
   ]
  },
  {
   "cell_type": "markdown",
   "metadata": {},
   "source": [
    "### Setting hyperparameters"
   ]
  },
  {
   "cell_type": "code",
   "execution_count": null,
   "metadata": {},
   "outputs": [],
   "source": [
    "BATCH_SIZE = 16\n",
    "NUM_EPOCHS = 5"
   ]
  },
  {
   "cell_type": "markdown",
   "metadata": {},
   "source": [
    "### Load all data"
   ]
  },
  {
   "cell_type": "code",
   "execution_count": 1,
   "metadata": {},
   "outputs": [],
   "source": [
    "all_dataset = ...\n",
    "all_data_len = (all_dataset)"
   ]
  },
  {
   "cell_type": "markdown",
   "metadata": {},
   "source": [
    "### Create folder to store results"
   ]
  },
  {
   "cell_type": "code",
   "execution_count": null,
   "metadata": {},
   "outputs": [],
   "source": [
    "run_id = str(int(time.time()))\n",
    "if not os.path.exists('./experiments'):\n",
    "    os.mkdir('./experiments')\n",
    "os.mkdir('./experiments/%s' % run_id)\n",
    "print(\"Saving models, predictions, and generated words to ./experiments/%s\" % run_id)"
   ]
  },
  {
   "cell_type": "markdown",
   "metadata": {},
   "source": [
    "### Load model "
   ]
  },
  {
   "cell_type": "code",
   "execution_count": null,
   "metadata": {},
   "outputs": [],
   "source": [
    "model = DenseNet121()\n",
    "\n",
    "# pretrained_dict = torch.load(...)\n",
    "#     model_dict = model.state_dict()\n",
    "#     # 1. filter out unnecessary keys\n",
    "#     pretrained_dict = {k: v for k, v in pretrained_dict.items() if k in model_dict}\n",
    "#     # 2. overwrite entries in the existing state dict\n",
    "#     model_dict.update(pretrained_dict)\n",
    "#     # 3. load the new state dict\n",
    "#     model.load_state_dict(model_dict)\n",
    "\n",
    "trainer = ModelTrainer(model=model, max_epochs=NUM_EPOCHS, run_id=run_id)"
   ]
  },
  {
   "cell_type": "markdown",
   "metadata": {},
   "source": [
    "### Starting training, use cross validation"
   ]
  },
  {
   "cell_type": "code",
   "execution_count": null,
   "metadata": {},
   "outputs": [],
   "source": [
    "best_loss = 1e30\n",
    "\n",
    "for epoch in range(NUM_EPOCHS):\n",
    "    # split dataset into train and validation folder\n",
    "    train_dataset, val_dataset = random_split(all_dataset, [all_data_len // 8, all_data_len // 2])\n",
    "    train_loader = DataLoader(train_dataset, batch_size=BATCH_SIZE, num_workers=4)\n",
    "    val_loader = DataLoader(val_dataset, batch_size=BATCH_SIZE, num_workers=4)\n",
    "    \n",
    "    start_time = time.time()\n",
    "    trainer.train_val_epoch()\n",
    "    \n",
    "    if self.val_loss[epoch] < best_loss:\n",
    "        best_loss = self.val_loss[epoch]\n",
    "        print(\"Saving model, predictions and generated output for epoch \" + \n",
    "              str(epoch+1)+\" with validation loss: \" + str(best_loss))\n",
    "        trainer.save()\n",
    "        \n",
    "    elapsed_time = time.time() - start_time\n",
    "    print('Time elapsed: ', time.strftime(\"%H:%M:%S\", time.gmtime(elapsed_time)))\n",
    "    "
   ]
  },
  {
   "cell_type": "markdown",
   "metadata": {},
   "source": [
    "### Plot curve"
   ]
  },
  {
   "cell_type": "code",
   "execution_count": null,
   "metadata": {},
   "outputs": [],
   "source": [
    "plt.figure()\n",
    "plt.plot(range(1, trainer.epochs + 1), trainer.train_losses, label='Training losses')\n",
    "plt.xlabel('Epochs')\n",
    "plt.ylabel('Loss')\n",
    "plt.legend()\n",
    "plt.show()\n",
    "\n",
    "plt.figure()\n",
    "plt.plot(range(1, trainer.epochs + 1), trainer.val_losses, label='Validation losses')\n",
    "plt.xlabel('Epochs')\n",
    "plt.ylabel('Loss')\n",
    "plt.legend()\n",
    "plt.show()"
   ]
  }
 ],
 "metadata": {
  "kernelspec": {
   "display_name": "Python 3",
   "language": "python",
   "name": "python3"
  },
  "language_info": {
   "codemirror_mode": {
    "name": "ipython",
    "version": 3
   },
   "file_extension": ".py",
   "mimetype": "text/x-python",
   "name": "python",
   "nbconvert_exporter": "python",
   "pygments_lexer": "ipython3",
   "version": "3.6.5"
  }
 },
 "nbformat": 4,
 "nbformat_minor": 2
}
